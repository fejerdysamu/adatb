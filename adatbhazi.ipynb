{
    "metadata": {
        "kernelspec": {
            "name": "SQL",
            "display_name": "SQL",
            "language": "sql"
        },
        "language_info": {
            "name": "sql",
            "version": ""
        }
    },
    "nbformat_minor": 2,
    "nbformat": 4,
    "cells": [
        {
            "cell_type": "markdown",
            "source": [
                "**LISTAAR**\n",
                "\n",
                "Null értékek"
            ],
            "metadata": {
                "azdata_cell_guid": "c06d3409-080d-4ebb-b1e3-52ada363638b"
            },
            "attachments": {}
        },
        {
            "cell_type": "code",
            "source": [
                "SELECT COUNT(*)-COUNT(LISTAAR) as 'Null értékek száma',\r\n",
                "       (COUNT(*)-COUNT(LISTAAR))/COUNT(*)*100 as 'Null értékek száma százalékos formában'\r\n",
                "FROM Termek"
            ],
            "metadata": {
                "azdata_cell_guid": "01a232f9-5edd-428d-9306-7edecb5e3ca7",
                "language": "sql"
            },
            "outputs": [],
            "execution_count": null
        },
        {
            "cell_type": "markdown",
            "source": [
                "Minimum, maximum, average"
            ],
            "metadata": {
                "azdata_cell_guid": "2a0cce7a-c749-42c7-80d4-677d6ef5cc01"
            },
            "attachments": {}
        },
        {
            "cell_type": "code",
            "source": [
                "SELECT MIN(LISTAAR) as 'Minimum ár', MAX(LISTAAR) as 'Maximum ár', AVG(LISTAAR) as 'Átlagos ár'\r\n",
                "FROM Termek\r\n",
                "WHERE LISTAAR is not null"
            ],
            "metadata": {
                "azdata_cell_guid": "cc3659a4-a6a1-488f-bdf3-a63d955c793d",
                "language": "sql",
                "tags": []
            },
            "outputs": [],
            "execution_count": null
        },
        {
            "cell_type": "markdown",
            "source": [
                "**MEGNEVEZES**\n",
                "\n",
                "Karakterlánc hossz előfordulásai csökkenő sorrendben"
            ],
            "metadata": {
                "azdata_cell_guid": "953853ab-7e31-48f6-b802-cad7328e54b1"
            },
            "attachments": {}
        },
        {
            "cell_type": "code",
            "source": [
                "SELECT LEN(MEGNEVEZES) as 'Karatkerlánc hossz',\r\n",
                "       COUNT(KAT_ID) as 'Előfordulás'\r\n",
                "FROM Termek\r\n",
                "GROUP BY LEN(MEGNEVEZES)\r\n",
                "ORDER BY 2 DESC"
            ],
            "metadata": {
                "azdata_cell_guid": "7055c2d8-b3f0-484c-b651-11bd1b9ea9bf",
                "language": "sql"
            },
            "outputs": [],
            "execution_count": null
        },
        {
            "cell_type": "markdown",
            "source": [
                "3 legrövidebb karakterlánc"
            ],
            "metadata": {
                "azdata_cell_guid": "929501f8-cfe4-44a5-9343-875d83f1440f"
            },
            "attachments": {}
        },
        {
            "cell_type": "code",
            "source": [
                "SELECT TOP 3 MEGNEVEZES as 'Termék', LEN(MEGNEVEZES) as 'Karakter lánc hossz'\r\n",
                "FROM Termek\r\n",
                "GROUP BY MEGNEVEZES\r\n",
                "ORDER BY 2"
            ],
            "metadata": {
                "azdata_cell_guid": "36bedc64-e19a-43dd-82b0-1218e5b12dff",
                "language": "sql",
                "tags": []
            },
            "outputs": [],
            "execution_count": null
        },
        {
            "cell_type": "markdown",
            "source": [
                "Kiugró érték"
            ],
            "metadata": {
                "azdata_cell_guid": "4d33b0f0-bff2-4b22-bd11-d505f915dc3b"
            },
            "attachments": {}
        },
        {
            "cell_type": "code",
            "source": [
                "SELECT MEGNEVEZES as 'Termék', LEN(MEGNEVEZES) as 'Termék hossza', (SELECT AVG(LEN(MEGNEVEZES FROM Termek))) as 'Átlag',\r\n",
                "        CASE\r\n",
                "            WHEN LEN(MEGNEVEZES) * 2>(SELECT AVG(LEN(MEGNEVEZES)) FROM Termek) THEN 'Kiugró érték'\r\n",
                "            ELSE 'Nem kiugró érték'\r\n",
                "        END as 'Kiugró érték vagy nem'\r\n",
                "FROM Termek"
            ],
            "metadata": {
                "azdata_cell_guid": "d51ef862-a384-4937-9ca9-52914212f2ea",
                "language": "sql",
                "tags": []
            },
            "outputs": [],
            "execution_count": null
        },
        {
            "cell_type": "markdown",
            "source": [
                "**FELVITEL**\n",
                "\n",
                "Havi felvitel eloszlás"
            ],
            "metadata": {
                "azdata_cell_guid": "e7141753-5b92-423a-b464-8a540656522e"
            },
            "attachments": {}
        },
        {
            "cell_type": "code",
            "source": [
                "SELECT YEAR(FELVITEL) as 'Év', MONTH(FELVITEL) as 'Hónap', COUNT(*) as 'Felvitel darabszám'\r\n",
                "FROM Termek\r\n",
                "GROUP BY YEAR(FELVITEL), MONTH(FELVITEL)\r\n",
                "ORDER BY 1, 2 "
            ],
            "metadata": {
                "azdata_cell_guid": "7a0df46e-8089-43d7-b772-59ccbf1c2663",
                "language": "sql"
            },
            "outputs": [],
            "execution_count": null
        },
        {
            "cell_type": "markdown",
            "source": [
                "Legtöbb felvitel"
            ],
            "metadata": {
                "azdata_cell_guid": "f651c39b-dd82-40bd-9bff-58a6c5a94c39"
            },
            "attachments": {}
        },
        {
            "cell_type": "code",
            "source": [
                "SELECT TOP 1 YEAR(FELVITEL) as 'Év', COUNT(*) as 'Felvitel darabszám'\r\n",
                "FROM Termek\r\n",
                "GROUP BY YEAR(FELVITEL)\r\n",
                "ORDER BY 2 DESC"
            ],
            "metadata": {
                "azdata_cell_guid": "9acaf2f1-762b-4278-8561-8c6039e9118f",
                "language": "sql"
            },
            "outputs": [],
            "execution_count": null
        }
    ]
}
